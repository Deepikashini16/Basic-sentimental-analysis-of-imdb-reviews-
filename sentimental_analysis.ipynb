{
 "cells": [
  {
   "cell_type": "markdown",
   "metadata": {},
   "source": [
    "BASIC SENTIMENT ANALYSIS\n",
    "-----------\n",
    "(ANALYSIS A MOVIE REVIEW AS POSITIVE OR NEGATIVE FROM IMDB DATASET)\n",
    "------"
   ]
  },
  {
   "cell_type": "code",
   "execution_count": 6,
   "metadata": {},
   "outputs": [
    {
     "name": "stdout",
     "output_type": "stream",
     "text": [
      "Downloading data from https://storage.googleapis.com/tensorflow/tf-keras-datasets/imdb.npz\n",
      "17465344/17464789 [==============================] - 77s 4us/step\n"
     ]
    }
   ],
   "source": [
    "from tensorflow.python.keras.datasets import imdb\n",
    "(x_train,y_train),(x_test,y_test)=imdb.load_data(num_words=10000)\n",
    "#x_train-->review    y_train-->positive(1) or negative(0)\n",
    "#getting reviews from imdb and storing it\n",
    "#load-data is a helper function of keras \n",
    "#keras has inbuilt imdb database which we can download "
   ]
  },
  {
   "cell_type": "code",
   "execution_count": 7,
   "metadata": {},
   "outputs": [
    {
     "name": "stdout",
     "output_type": "stream",
     "text": [
      "[1, 14, 22, 16, 43, 530, 973, 1622, 1385, 65, 458, 4468, 66, 3941, 4, 173, 36, 256, 5, 25, 100, 43, 838, 112, 50, 670, 2, 9, 35, 480, 284, 5, 150, 4, 172, 112, 167, 2, 336, 385, 39, 4, 172, 4536, 1111, 17, 546, 38, 13, 447, 4, 192, 50, 16, 6, 147, 2025, 19, 14, 22, 4, 1920, 4613, 469, 4, 22, 71, 87, 12, 16, 43, 530, 38, 76, 15, 13, 1247, 4, 22, 17, 515, 17, 12, 16, 626, 18, 2, 5, 62, 386, 12, 8, 316, 8, 106, 5, 4, 2223, 5244, 16, 480, 66, 3785, 33, 4, 130, 12, 16, 38, 619, 5, 25, 124, 51, 36, 135, 48, 25, 1415, 33, 6, 22, 12, 215, 28, 77, 52, 5, 14, 407, 16, 82, 2, 8, 4, 107, 117, 5952, 15, 256, 4, 2, 7, 3766, 5, 723, 36, 71, 43, 530, 476, 26, 400, 317, 46, 7, 4, 2, 1029, 13, 104, 88, 4, 381, 15, 297, 98, 32, 2071, 56, 26, 141, 6, 194, 7486, 18, 4, 226, 22, 21, 134, 476, 26, 480, 5, 144, 30, 5535, 18, 51, 36, 28, 224, 92, 25, 104, 4, 226, 65, 16, 38, 1334, 88, 12, 16, 283, 5, 16, 4472, 113, 103, 32, 15, 16, 5345, 19, 178, 32]\n"
     ]
    }
   ],
   "source": [
    "print(x_train[0])\n",
    "\n",
    "#Neural networks dont understand text They only understand numbers\n",
    "#So the reviews are here are converted into numbers\n",
    "#From the reviews we collect unique words called the bag of words\n",
    "#each unique word is given a token number\n",
    "#So the numbers below are tokn values of the words in the review"
   ]
  },
  {
   "cell_type": "code",
   "execution_count": 8,
   "metadata": {},
   "outputs": [
    {
     "name": "stdout",
     "output_type": "stream",
     "text": [
      "1\n"
     ]
    }
   ],
   "source": [
    "print(y_train[0])\n",
    "#label for 1st element is 1 .So its a negative review"
   ]
  },
  {
   "cell_type": "code",
   "execution_count": 9,
   "metadata": {},
   "outputs": [],
   "source": [
    "#Define a class for our reference\n",
    "class_name=['Negative','Positive']\n"
   ]
  },
  {
   "cell_type": "code",
   "execution_count": 11,
   "metadata": {},
   "outputs": [
    {
     "name": "stdout",
     "output_type": "stream",
     "text": [
      "4822\n"
     ]
    }
   ],
   "source": [
    "#keras has a helper function(get_word_index()) which helps to get \n",
    "#index for  words for numberic representation\n",
    "#words --->keys  token-->value(dictionary)\n",
    "\n",
    "\n",
    "#imdb db consists of several wordindex \n",
    "word_index=imdb.get_word_index()\n",
    "#hello is tokenised by the dataset \n",
    "print(word_index['hello'])\n"
   ]
  },
  {
   "cell_type": "markdown",
   "metadata": {},
   "source": [
    "''''''''''''''''''''''''DECODING THE REVIEWS'''''''''''''''''''''''''\n",
    "#the numberic representaions are converted back to text"
   ]
  },
  {
   "cell_type": "code",
   "execution_count": 16,
   "metadata": {},
   "outputs": [
    {
     "data": {
      "text/plain": [
       "\"the as you with out themselves powerful lets loves their becomes reaching had journalist of lot from anyone to have after out atmosphere never more room and it so heart shows to years of every never going and help moments or of every chest visual movie except her was several of enough more with is now current film as you of mine potentially unfortunately of you than him that with out themselves her get for was camp of you movie sometimes movie that with scary but and to story wonderful that in seeing in character to of 70s musicians with heart had shadows they of here that with her serious to have does when from why what have critics they is you that isn't one will very to as itself with other and in of seen over landed for anyone of and br show's to whether from than out themselves history he name half some br of and odd was two most of mean for 1 any an boat she he should is thought frog but of script you not while history he heart to real at barrel but when from one bit then have two of script their with her nobody most that with wasn't to with armed acting watch an for with heartfelt film want an \""
      ]
     },
     "execution_count": 16,
     "metadata": {},
     "output_type": "execute_result"
    }
   ],
   "source": [
    "#REVERSE THE KEY(words) AS VALUE_created AND VALUE(token) AS KEY_created\n",
    "\n",
    "reverse_word_index=dict((value,key)for key,value in word_index.items())\n",
    "\n",
    "def decode(review):\n",
    "    text=''\n",
    "    for i in review:\n",
    "        text+=reverse_word_index[i]\n",
    "        text+=' '\n",
    "    return text    \n",
    "\n",
    "decode(x_train[0])"
   ]
  },
  {
   "cell_type": "code",
   "execution_count": 17,
   "metadata": {},
   "outputs": [],
   "source": [
    "def show_len():\n",
    "    print('len of 1st training example:',len(x_train[0]))\n",
    "    print('len of 2nd training example:',len(x_train[1]))\n",
    "    print('len of 1st test example:',len(x_test[0]))\n",
    "    print('len of 1st training example:',len(x_test[1]))"
   ]
  },
  {
   "cell_type": "code",
   "execution_count": 18,
   "metadata": {},
   "outputs": [
    {
     "name": "stdout",
     "output_type": "stream",
     "text": [
      "len of 1st training example: 218\n",
      "len of 2nd training example: 189\n",
      "len of 1st test example: 68\n",
      "len of 1st training example: 260\n"
     ]
    }
   ],
   "source": [
    "show_len()"
   ]
  },
  {
   "cell_type": "markdown",
   "metadata": {},
   "source": [
    "'''''''''''PADDING THE EXAMPLES''''''''''''''''''\n",
    "So to use in neural network we need equal lengths so we simply padd values "
   ]
  },
  {
   "cell_type": "code",
   "execution_count": 19,
   "metadata": {},
   "outputs": [
    {
     "data": {
      "text/plain": [
       "1"
      ]
     },
     "execution_count": 19,
     "metadata": {},
     "output_type": "execute_result"
    }
   ],
   "source": [
    "word_index['the']"
   ]
  },
  {
   "cell_type": "code",
   "execution_count": 22,
   "metadata": {},
   "outputs": [],
   "source": [
    "#keras has helper function pad_sequnece which sets the max length for each data\n",
    "#so we pad upto 256 \n",
    "from tensorflow.python.keras.preprocessing.sequence import pad_sequences\n",
    "x_train =pad_sequences(x_train,value=word_index['the'],padding ='post',maxlen=256)\n",
    "x_test =pad_sequences(x_test,value=word_index['the'],padding ='post',maxlen=256)\n"
   ]
  },
  {
   "cell_type": "code",
   "execution_count": 23,
   "metadata": {},
   "outputs": [
    {
     "name": "stdout",
     "output_type": "stream",
     "text": [
      "len of 1st training example: 256\n",
      "len of 2nd training example: 256\n",
      "len of 1st test example: 256\n",
      "len of 1st training example: 256\n"
     ]
    }
   ],
   "source": [
    "show_len()"
   ]
  },
  {
   "cell_type": "code",
   "execution_count": 24,
   "metadata": {},
   "outputs": [
    {
     "data": {
      "text/plain": [
       "\"the as you with out themselves powerful lets loves their becomes reaching had journalist of lot from anyone to have after out atmosphere never more room and it so heart shows to years of every never going and help moments or of every chest visual movie except her was several of enough more with is now current film as you of mine potentially unfortunately of you than him that with out themselves her get for was camp of you movie sometimes movie that with scary but and to story wonderful that in seeing in character to of 70s musicians with heart had shadows they of here that with her serious to have does when from why what have critics they is you that isn't one will very to as itself with other and in of seen over landed for anyone of and br show's to whether from than out themselves history he name half some br of and odd was two most of mean for 1 any an boat she he should is thought frog but of script you not while history he heart to real at barrel but when from one bit then have two of script their with her nobody most that with wasn't to with armed acting watch an for with heartfelt film want an the the the the the the the the the the the the the the the the the the the the the the the the the the the the the the the the the the the the the the \""
      ]
     },
     "execution_count": 24,
     "metadata": {},
     "output_type": "execute_result"
    }
   ],
   "source": [
    "#So now all the extra values are padded as the \n",
    "decode(x_train[0])"
   ]
  },
  {
   "cell_type": "code",
   "execution_count": 25,
   "metadata": {},
   "outputs": [
    {
     "data": {
      "text/plain": [
       "\"the wonder own as by is sequence i i and and to of hollywood br of down shouting getting boring of ever it sadly sadly sadly i i was then does don't close faint after one carry as by are be favourites all family turn in does as three part in another some to be probably with world and her an have faint beginning own as is sequence the the the the the the the the the the the the the the the the the the the the the the the the the the the the the the the the the the the the the the the the the the the the the the the the the the the the the the the the the the the the the the the the the the the the the the the the the the the the the the the the the the the the the the the the the the the the the the the the the the the the the the the the the the the the the the the the the the the the the the the the the the the the the the the the the the the the the the the the the the the the the the the the the the the the the the the the the the the the the the the the the the the the the the the the the the the the the the the the the the the the the the the the the the the the \""
      ]
     },
     "execution_count": 25,
     "metadata": {},
     "output_type": "execute_result"
    }
   ],
   "source": [
    "decode(x_test[0])"
   ]
  },
  {
   "cell_type": "markdown",
   "metadata": {},
   "source": [
    "WORD EMBEDDINGS\n",
    "-----------------------------------\n",
    "ONE HOT ENCODING:\n",
    "-------------------------------\n",
    "\n",
    "If the algorithm learns \n",
    "\n",
    "This tuna 'sandwich' is quite tasty .\n",
    "\n",
    "It cannot translate the learnig to \n",
    "\n",
    "This chicken '-------- ' is quite tasty \n",
    "\n",
    "WORD EMBEDDINGS:\n",
    "-------------------------------\n",
    "\n",
    "If the algorithm learns \n",
    "This tuna 'sandwich' is quite tasty .\n",
    "\n",
    "It CAN extrapolate the learning to :\n",
    "This chicken 'sandwich ' is quite tasty \n",
    "\n",
    "\n",
    "for each feature several words have different values\n",
    "eg:\n",
    "\n",
    "\n",
    "\n",
    "\n",
    "FEATURE ----->   :WORDS\n",
    "\n",
    "\n",
    "\n",
    "\n",
    "\n",
    "\n",
    "Greeting:\n",
    "tuna ->0.01\n",
    "Chicken-->-0.04\n",
    "hello-->0.99\n",
    "hey-->0.91\n",
    "\n",
    "Food:\n",
    "tuna-->0.92\n",
    "chicken-->1.00\n",
    "hello-->0.11\n",
    "hey-->0.03\n",
    "\n",
    "so we take 16 features for our 10,000 words\n",
    "The high value of the word with the feature makes it to match with the context.\n",
    "the value of the features are being learnt while training"
   ]
  },
  {
   "cell_type": "markdown",
   "metadata": {},
   "source": [
    "CREATE AND TRAIN MODEL\n",
    "-----------------------------------------\n",
    "\n",
    "There are two ways to build Keras models:\n",
    "------------------------------------------------------------\n",
    "sequential and functional.\n",
    "------------------------------------\n",
    "\n",
    "The sequential API allows you to create models layer-by-layer for most problems. It is limited in that it does not allow you to create models that share layers or have multiple inputs or outputs.\n",
    "\n",
    "Alternatively, the functional API allows you to create models that have a lot more flexibility as you can easily define models where layers connect to more than just the previous and next layers. In fact, you can connect layers to (literally) any other layer. As a result, creating complex networks such as siamese networks and residual networks become possible.\n",
    "\n",
    "\n",
    "Creation:\n",
    "-----------------"
   ]
  },
  {
   "cell_type": "code",
   "execution_count": 35,
   "metadata": {},
   "outputs": [
    {
     "name": "stdout",
     "output_type": "stream",
     "text": [
      "Model: \"sequential\"\n",
      "_________________________________________________________________\n",
      "Layer (type)                 Output Shape              Param #   \n",
      "=================================================================\n",
      "embedding (Embedding)        (None, None, 16)          160000    \n",
      "_________________________________________________________________\n",
      "global_average_pooling1d (Gl (None, 16)                0         \n",
      "_________________________________________________________________\n",
      "dense (Dense)                (None, 16)                272       \n",
      "_________________________________________________________________\n",
      "dense_1 (Dense)              (None, 1)                 17        \n",
      "=================================================================\n",
      "Total params: 160,289\n",
      "Trainable params: 160,289\n",
      "Non-trainable params: 0\n",
      "_________________________________________________________________\n"
     ]
    }
   ],
   "source": [
    "from tensorflow.python.keras.models import Sequential\n",
    "from tensorflow.python.keras.layers import GlobalAveragePooling1D\n",
    "from tensorflow.python.keras.layers import Dense, Embedding\n",
    "\n",
    "#sequential class \n",
    "#embedding layer  -->from keras is used to train\n",
    "\n",
    "\n",
    "#16 *10000embedded layer output goes to \n",
    "#global average pooling which creates a 16 dimensional vector for each training batch\n",
    "#And the is connected densely wih next layer with 16 nodes and the activation is RELU\n",
    "#The output layer is densely connected with sigmoid activation function which gives a binary output\n",
    "#(0-negative review,  1-positive review)\n",
    "\n",
    "\n",
    "model=Sequential([\n",
    "    Embedding(10000, 16),#Words and feature size\n",
    "    GlobalAveragePooling1D(),#10000 x 16 is converted to 1D array\n",
    "    Dense(16,activation='relu'),\n",
    "    Dense(1,activation='sigmoid')\n",
    "])\n",
    "\n",
    "model.compile(\n",
    "       loss ='binary_crossentropy',\n",
    "       optimizer='adam',\n",
    "       metrics=['accuracy']\n",
    "    )\n",
    "\n",
    "model.summary()\n"
   ]
  },
  {
   "cell_type": "markdown",
   "metadata": {},
   "source": [
    "TRAINING:\n",
    "----------------------\n",
    "\n",
    "fit method is used to monitor the traning at each epochs \n",
    "m\n",
    "lambda callback justprints epoch number \" . \" after each epoch.\n",
    "\n",
    "validation split=the training set is split as 20% that is each batch as 2000 reviews."
   ]
  },
  {
   "cell_type": "code",
   "execution_count": 42,
   "metadata": {},
   "outputs": [
    {
     "name": "stdout",
     "output_type": "stream",
     "text": [
      "0.1.2.3.4.5.6.7.8.9.10.11.12.13.14.15.16.17.18.19."
     ]
    }
   ],
   "source": [
    "from tensorflow.python.keras.callbacks import LambdaCallback\n",
    "simple_log=LambdaCallback(on_epoch_end =lambda e ,l:print(e,end='.'))\n",
    "\n",
    "E=20\n",
    "\n",
    "h=model.fit(\n",
    "  x_train,y_train,\n",
    "    validation_split=0.2,\n",
    "    epochs=E,\n",
    "    callbacks=[simple_log],\n",
    "    verbose=False #  put one for progress bar\n",
    ")"
   ]
  },
  {
   "cell_type": "markdown",
   "metadata": {},
   "source": [
    "PREDICTION AND EVALUATION\n",
    "--------------------------------------------------\n",
    "Plot the values of accuracy during training and validation in a graph using matplotlib\n"
   ]
  },
  {
   "cell_type": "code",
   "execution_count": 44,
   "metadata": {},
   "outputs": [
    {
     "data": {
      "image/png": "[encoded data removed]",
      "text/plain": [
       "<Figure size 432x288 with 1 Axes>"
      ]
     },
     "metadata": {
      "needs_background": "light"
     },
     "output_type": "display_data"
    }
   ],
   "source": [
    "import matplotlib.pyplot as plt\n",
    "%matplotlib inline\n",
    "\n",
    "plt.plot(range(E),h.history['accuracy'],label ='Training')\n",
    "plt.plot(range(E),h.history['val_accuracy'],label ='Validation')\n",
    "plt.legend()\n",
    "plt.show()"
   ]
  },
  {
   "cell_type": "code",
   "execution_count": 45,
   "metadata": {},
   "outputs": [
    {
     "name": "stdout",
     "output_type": "stream",
     "text": [
      "782/782 [==============================] - 1s 949us/step - loss: 2.3649 - accuracy: 0.8300\n",
      "Test set accuracy: 83.00399780273438\n"
     ]
    }
   ],
   "source": [
    "#Test accuracy \n",
    "\n",
    "loss,acc=model.evaluate(x_test ,y_test)\n",
    "print('Test set accuracy:' ,acc*100)"
   ]
  },
  {
   "cell_type": "code",
   "execution_count": 49,
   "metadata": {},
   "outputs": [
    {
     "name": "stdout",
     "output_type": "stream",
     "text": [
      "Negative\n"
     ]
    }
   ],
   "source": [
    "import numpy as np\n",
    "\n",
    "p=model.predict(np.expand_dims(x_test[1],axis=1))\n",
    "print(class_name[np.argmax(p[1])])\n"
   ]
  },
  {
   "cell_type": "code",
   "execution_count": 50,
   "metadata": {},
   "outputs": [
    {
     "data": {
      "text/plain": [
       "\"is quite br mankind most that quest are chase to being quickly of little it time hell to plot br of something long put are of every place this consequence and of interplay storytelling being nasty not of you warren in is failed club i i of films pay so sequences and film okay uses to received and if time done for room sugar viewer as cartoon of gives to forgettable br be because many these of reflection sugar contained gives it wreck scene to more was two when had find as you another it of themselves probably who interplay storytelling if itself by br about 1950's films not would effects that her box to miike for if hero close seek end is very together movie of wheel got say kong sugar fred close bore there is playing lot of and pan place trilogy of lacks br of their time much this men as on it is telling program br silliness okay and to frustration at corner and she of sequences to political clearly in of drugs keep guy i i was throwing room sugar as it by br be plot many for occasionally film verge boyfriend difficult kid as you it failed not if gerard to if woman in and is police fi spooky or of self what have pretty in can so suit you good 2 which why super as it main of my i i \\x96 if time screenplay in same this remember assured have action one in realistic that better of lessons \""
      ]
     },
     "execution_count": 50,
     "metadata": {},
     "output_type": "execute_result"
    }
   ],
   "source": [
    "decode(x_test[1])#the sequence is not clear but review is bad "
   ]
  },
  {
   "cell_type": "code",
   "execution_count": null,
   "metadata": {},
   "outputs": [],
   "source": []
  },
  {
   "cell_type": "code",
   "execution_count": null,
   "metadata": {},
   "outputs": [],
   "source": []
  }
 ],
 "metadata": {
  "kernelspec": {
   "display_name": "Python 3",
   "language": "python",
   "name": "python3"
  },
  "language_info": {
   "codemirror_mode": {
    "name": "ipython",
    "version": 3
   },
   "file_extension": ".py",
   "mimetype": "text/x-python",
   "name": "python",
   "nbconvert_exporter": "python",
   "pygments_lexer": "ipython3",
   "version": "3.7.1"
  }
 },
 "nbformat": 4,
 "nbformat_minor": 2
}
